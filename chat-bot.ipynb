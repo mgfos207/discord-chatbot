{
 "cells": [
  {
   "cell_type": "code",
   "execution_count": 1,
   "metadata": {},
   "outputs": [],
   "source": [
    "import getpass\n",
    "import os"
   ]
  },
  {
   "cell_type": "code",
   "execution_count": 3,
   "metadata": {},
   "outputs": [],
   "source": [
    "from langchain_core.tools import tool\n",
    "import serpapi"
   ]
  },
  {
   "cell_type": "code",
   "execution_count": 14,
   "metadata": {},
   "outputs": [],
   "source": [
    "serpapi_params = {\n",
    "    \"engine\": \"google\",\n",
    "    \"api_key\": getpass.getpass()\n",
    "}\n",
    "@tool(\"web_search\")\n",
    "def web_search(query: str):\n",
    "    \"\"\"Finds general knowledge information using Google search. Can also be used\n",
    "    to augment more 'general' knowledge to a previous specialist query.\"\"\"\n",
    "    search = serpapi.search({\n",
    "        **serpapi_params,\n",
    "        \"q\": query,\n",
    "        \"num\": 1\n",
    "    })\n",
    "    results = search.data[\"organic_results\"]\n",
    "    contexts = \"\\n---\\n\".join(\n",
    "        [\"\\n\".join([x[\"title\"], x[\"snippet\"], x[\"link\"]]) for x in results]\n",
    "    )\n",
    "    return contexts"
   ]
  },
  {
   "cell_type": "code",
   "execution_count": 5,
   "metadata": {},
   "outputs": [],
   "source": [
    "tools = [web_search]"
   ]
  },
  {
   "cell_type": "code",
   "execution_count": 6,
   "metadata": {},
   "outputs": [],
   "source": [
    "from typing import Annotated\n",
    "\n",
    "from typing_extensions import TypedDict\n",
    "\n",
    "from langgraph.graph import StateGraph, START\n",
    "from langgraph.graph.message import add_messages\n",
    "\n",
    "\n",
    "class State(TypedDict):\n",
    "    messages: Annotated[list, add_messages]\n",
    "\n",
    "\n",
    "graph_builder = StateGraph(State)\n",
    "\n",
    "\n",
    "llm = ChatOllama(model=\"mistral-nemo\", temperature=0)\n",
    "# Modification: tell the LLM which tools it can call\n",
    "llm_with_tools = llm.bind_tools(tools)\n",
    "\n",
    "\n",
    "def chatbot(state: State):\n",
    "    return {\"messages\": [llm_with_tools.invoke(state[\"messages\"])]}\n",
    "\n",
    "\n",
    "graph_builder.add_node(\"chatbot\", chatbot)"
   ]
  },
  {
   "cell_type": "code",
   "execution_count": 9,
   "metadata": {},
   "outputs": [],
   "source": [
    "import json\n",
    "\n",
    "from langchain_core.messages import ToolMessage\n",
    "\n",
    "class BasicToolNode:\n",
    "    \"\"\"A node that runs the tools requested in the last AIMessage.\"\"\"\n",
    "\n",
    "    def __init__(self, tools: list) -> None:\n",
    "        self.tools_by_name = {tool.name: tool for tool in tools}\n",
    "\n",
    "    def __call__(self, inputs: dict):\n",
    "        if messages := inputs.get(\"messages\", []):\n",
    "            message = messages[-1]\n",
    "        else:\n",
    "            raise ValueError(\"No message found in input\")\n",
    "        outputs = []\n",
    "        for tool_call in message.tool_calls:\n",
    "            tool_result = self.tools_by_name[tool_call[\"name\"]].invoke(\n",
    "                tool_call[\"args\"]\n",
    "            )\n",
    "            outputs.append(\n",
    "                ToolMessage(\n",
    "                    content=json.dumps(tool_result),\n",
    "                    name=tool_call[\"name\"],\n",
    "                    tool_call_id=tool_call[\"id\"],\n",
    "                )\n",
    "            )\n",
    "        return {\"messages\": outputs}\n",
    "\n",
    "\n",
    "tool_node = BasicToolNode(tools=tools)\n",
    "graph_builder.add_node(\"tools\", tool_node)"
   ]
  },
  {
   "cell_type": "code",
   "execution_count": 10,
   "metadata": {},
   "outputs": [],
   "source": [
    "from typing import Literal\n",
    "from langgraph.checkpoint.memory import MemorySaver\n",
    "\n",
    "memory = MemorySaver()\n",
    "\n",
    "def route_tools(\n",
    "    state: State,\n",
    ") -> Literal[\"tools\", \"__end__\"]:\n",
    "    \"\"\"\n",
    "    Use in the conditional_edge to route to the ToolNode if the last message\n",
    "    has tool calls. Otherwise, route to the end.\n",
    "    \"\"\"\n",
    "    if isinstance(state, list):\n",
    "        ai_message = state[-1]\n",
    "    elif messages := state.get(\"messages\", []):\n",
    "        ai_message = messages[-1]\n",
    "    else:\n",
    "        raise ValueError(f\"No messages found in input state to tool_edge: {state}\")\n",
    "    if hasattr(ai_message, \"tool_calls\") and len(ai_message.tool_calls) > 0:\n",
    "        return \"tools\"\n",
    "    return \"__end__\"\n",
    "\n",
    "\n",
    "# The `tools_condition` function returns \"tools\" if the chatbot asks to use a tool, and \"__end__\" if\n",
    "# it is fine directly responding. This conditional routing defines the main agent loop.\n",
    "graph_builder.add_conditional_edges(\n",
    "    \"chatbot\",\n",
    "    route_tools,\n",
    "    # The following dictionary lets you tell the graph to interpret the condition's outputs as a specific node\n",
    "    # It defaults to the identity function, but if you\n",
    "    # want to use a node named something else apart from \"tools\",\n",
    "    # You can update the value of the dictionary to something else\n",
    "    # e.g., \"tools\": \"my_tools\"\n",
    "    {\"tools\": \"tools\", \"__end__\": \"__end__\"},\n",
    ")\n",
    "# Any time a tool is called, we return to the chatbot to decide the next step\n",
    "graph_builder.add_edge(\"tools\", \"chatbot\")\n",
    "graph_builder.add_edge(START, \"chatbot\")\n",
    "graph = graph_builder.compile(checkpointer=memory)"
   ]
  },
  {
   "cell_type": "code",
   "execution_count": 11,
   "metadata": {},
   "outputs": [
    {
     "data": {
      "image/jpeg": "[encoded data removed]",
      "text/plain": [
       "<IPython.core.display.Image object>"
      ]
     },
     "metadata": {},
     "output_type": "display_data"
    }
   ],
   "source": [
    "from IPython.display import Image, display\n",
    "\n",
    "try:\n",
    "    display(Image(graph.get_graph().draw_mermaid_png()))\n",
    "except Exception:\n",
    "    # This requires some extra dependencies and is optional\n",
    "    pass"
   ]
  },
  {
   "cell_type": "code",
   "execution_count": 12,
   "metadata": {},
   "outputs": [
    {
     "name": "stdout",
     "output_type": "stream",
     "text": [
      "================================\u001b[1m Human Message \u001b[0m=================================\n",
      "\n",
      "My name is Micah\n",
      "==================================\u001b[1m Ai Message \u001b[0m==================================\n",
      "\n",
      " Hello Micah! How can I assist you today?\n",
      "================================\u001b[1m Human Message \u001b[0m=================================\n",
      "\n",
      "Do you know my name?\n",
      "==================================\u001b[1m Ai Message \u001b[0m==================================\n",
      "\n",
      " Hi Micah! How can I assist you today?\n",
      "================================\u001b[1m Human Message \u001b[0m=================================\n",
      "\n",
      "Who is Gon?\n",
      "==================================\u001b[1m Ai Message \u001b[0m==================================\n",
      "Tool Calls:\n",
      "  web_search (4653a81b-1704-4f19-9269-3e4f09e7358c)\n",
      " Call ID: 4653a81b-1704-4f19-9269-3e4f09e7358c\n",
      "  Args:\n",
      "    query: Who is Gon?\n",
      "=================================\u001b[1m Tool Message \u001b[0m=================================\n",
      "Name: web_search\n",
      "\n",
      "\"Gon Freecss - Hunterpedia - Fandom\\nGon Freecss (\\u30b4\\u30f3\\u30a0\\u30d5\\u30ea\\u30fc\\u30af\\u30b9, Gon Fur\\u012bkusu) is a Rookie Hunter and the son of Ging Freecss. Finding his father is Gon's motivation in becoming a Hunter.\\nhttps://hunterxhunter.fandom.com/wiki/Gon_Freecss\"\n",
      "==================================\u001b[1m Ai Message \u001b[0m==================================\n",
      "\n",
      "Gon Freecss is a Rookie Hunter and the son of Ging Freecss. Finding his father is Gon's primary motivation for becoming a Hunter.\n",
      "================================\u001b[1m Human Message \u001b[0m=================================\n",
      "\n",
      "Who is his dad?\n",
      "==================================\u001b[1m Ai Message \u001b[0m==================================\n",
      "Tool Calls:\n",
      "  web_search (bdb637e7-637a-44c9-9935-7f058f89e8ee)\n",
      " Call ID: bdb637e7-637a-44c9-9935-7f058f89e8ee\n",
      "  Args:\n",
      "    query: Who is Ging Freecss?\n",
      "=================================\u001b[1m Tool Message \u001b[0m=================================\n",
      "Name: web_search\n",
      "\n",
      "\"Ging Freecss | Hunterpedia - Fandom\\nGing Freecss (\\u30b8\\u30f3\\u30a0\\u30d5\\u30ea\\u30fc\\u30af\\u30b9, Jin Fur\\u012bkusu) is the father of Gon Freecss. He is a Double-Star Ruins Hunter (though he can apply for a Triple-Star License), ...\\nhttps://hunterxhunter.fandom.com/wiki/Ging_Freecss\"\n",
      "==================================\u001b[1m Ai Message \u001b[0m==================================\n",
      "\n",
      " Ging Freecss is Gon's father, a renowned Hunter with a Double-Star Ruins Hunter license.\n",
      "================================\u001b[1m Human Message \u001b[0m=================================\n",
      "\n",
      "Who is Beyonce?\n",
      "==================================\u001b[1m Ai Message \u001b[0m==================================\n",
      "Tool Calls:\n",
      "  web_search (8219be83-75ab-4762-ae2e-d8c27b0fe5c9)\n",
      " Call ID: 8219be83-75ab-4762-ae2e-d8c27b0fe5c9\n",
      "  Args:\n",
      "    query: Who is Beyonce?\n",
      "=================================\u001b[1m Tool Message \u001b[0m=================================\n",
      "Name: web_search\n",
      "\n",
      "\"Beyonc\\u00e9\\nBeyonc\\u00e9 Giselle Knowles-Carter is an American singer, songwriter, and businesswoman. Dubbed \\\"Queen Bey\\\", she is regarded as a prominent cultural figure of ...\\nhttps://en.wikipedia.org/wiki/Beyonc%C3%A9\"\n",
      "==================================\u001b[1m Ai Message \u001b[0m==================================\n",
      "\n",
      " Beyoncé Giselle Knowles-Carter is an American singer, songwriter, and businesswoman. She is often referred to as \"Queen Bey\" and is considered a prominent cultural figure.\n",
      "================================\u001b[1m Human Message \u001b[0m=================================\n",
      "\n",
      "who is her husband?\n",
      "==================================\u001b[1m Ai Message \u001b[0m==================================\n",
      "Tool Calls:\n",
      "  web_search (7c8c1cec-039f-42d5-afdb-d76e25a0663e)\n",
      " Call ID: 7c8c1cec-039f-42d5-afdb-d76e25a0663e\n",
      "  Args:\n",
      "    query: Who is Jay-Z?\n",
      "=================================\u001b[1m Tool Message \u001b[0m=================================\n",
      "Name: web_search\n",
      "\n",
      "\"Jay-Z\\nShawn Corey Carter (born December 4, 1969), known professionally as Jay-Z, is an American rapper and entrepreneur. Born and raised in New York City, ...\\nhttps://en.wikipedia.org/wiki/Jay-Z\"\n",
      "==================================\u001b[1m Ai Message \u001b[0m==================================\n",
      "\n",
      " Shawn Corey Carter, known professionally as Jay-Z, is Beyoncé's husband. He is an American rapper and entrepreneur born on December 4, 1969, in New York City.\n",
      "Goodbye!\n"
     ]
    }
   ],
   "source": [
    "from langchain_core.messages import BaseMessage\n",
    "\n",
    "config = {\"configurable\": {\"thread_id\": \"1\"}}\n",
    "while True:\n",
    "    user_input = input(\"User: \")\n",
    "    if user_input.lower() in [\"quit\", \"exit\", \"q\"]:\n",
    "        print(\"Goodbye!\")\n",
    "        break\n",
    "\n",
    "    for event in graph.stream({\"messages\": [(\"user\", user_input)]}, config, stream_mode=\"values\"):\n",
    "        event['messages'][-1].pretty_print()"
   ]
  }
 ],
 "metadata": {
  "kernelspec": {
   "display_name": "Python 3.9.19 ('LLM-Chatbot')",
   "language": "python",
   "name": "python3"
  },
  "language_info": {
   "codemirror_mode": {
    "name": "ipython",
    "version": 3
   },
   "file_extension": ".py",
   "mimetype": "text/x-python",
   "name": "python",
   "nbconvert_exporter": "python",
   "pygments_lexer": "ipython3",
   "version": "3.9.19"
  },
  "orig_nbformat": 4,
  "vscode": {
   "interpreter": {
    "hash": "dbf952039f03881dc43e87c50c27994b57eadbf427f5b941caf28e467dd8bfb1"
   }
  }
 },
 "nbformat": 4,
 "nbformat_minor": 2
}
